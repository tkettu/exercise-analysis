{
 "cells": [
  {
   "cell_type": "markdown",
   "metadata": {},
   "source": [
    "Get data from sport-tracker diary/workout-list, filtered by walking and dates at 2017 start to end.\n",
    "Copy corresponding div from browser development tools (chrome f12)\n",
    "Save it as walks2017.html"
   ]
  },
  {
   "cell_type": "code",
   "execution_count": 1,
   "metadata": {
    "collapsed": true
   },
   "outputs": [],
   "source": [
    "file = 'walks2017.html'\n",
    "html_doc = open(file, 'r').read()\n",
    "#print(html_doc)\n"
   ]
  },
  {
   "cell_type": "code",
   "execution_count": 2,
   "metadata": {
    "collapsed": true
   },
   "outputs": [],
   "source": [
    "from bs4 import BeautifulSoup\n",
    "soup = BeautifulSoup(html_doc, 'html.parser')\n",
    "\n",
    "#print(soup.prettify())"
   ]
  },
  {
   "cell_type": "code",
   "execution_count": 3,
   "metadata": {},
   "outputs": [
    {
     "name": "stdout",
     "output_type": "stream",
     "text": [
      "Total walks: 229\n"
     ]
    }
   ],
   "source": [
    "listat = soup.find_all('ul')\n",
    "\n",
    "listat = listat[1]\n",
    "sports = listat.find_all('li')\n",
    "print(\"Total walks: %d\" % (len(sports)))\n",
    "    "
   ]
  },
  {
   "cell_type": "code",
   "execution_count": 4,
   "metadata": {
    "scrolled": true
   },
   "outputs": [
    {
     "data": {
      "text/html": [
       "<div>\n",
       "<style>\n",
       "    .dataframe thead tr:only-child th {\n",
       "        text-align: right;\n",
       "    }\n",
       "\n",
       "    .dataframe thead th {\n",
       "        text-align: left;\n",
       "    }\n",
       "\n",
       "    .dataframe tbody tr th {\n",
       "        vertical-align: top;\n",
       "    }\n",
       "</style>\n",
       "<table border=\"1\" class=\"dataframe\">\n",
       "  <thead>\n",
       "    <tr style=\"text-align: right;\">\n",
       "      <th></th>\n",
       "      <th>date</th>\n",
       "      <th>time</th>\n",
       "      <th>distance</th>\n",
       "      <th>avg-speed</th>\n",
       "    </tr>\n",
       "  </thead>\n",
       "  <tbody>\n",
       "    <tr>\n",
       "      <th>0</th>\n",
       "      <td>Dec 31, 2017</td>\n",
       "      <td>01:06:31</td>\n",
       "      <td>6.58</td>\n",
       "      <td>5.9</td>\n",
       "    </tr>\n",
       "    <tr>\n",
       "      <th>1</th>\n",
       "      <td>Dec 30, 2017</td>\n",
       "      <td>01:01:27</td>\n",
       "      <td>3.87</td>\n",
       "      <td>3.8</td>\n",
       "    </tr>\n",
       "    <tr>\n",
       "      <th>2</th>\n",
       "      <td>Dec 27, 2017</td>\n",
       "      <td>00:42:26</td>\n",
       "      <td>3.64</td>\n",
       "      <td>5.1</td>\n",
       "    </tr>\n",
       "    <tr>\n",
       "      <th>3</th>\n",
       "      <td>Dec 26, 2017</td>\n",
       "      <td>01:14:09</td>\n",
       "      <td>4.45</td>\n",
       "      <td>3.6</td>\n",
       "    </tr>\n",
       "    <tr>\n",
       "      <th>4</th>\n",
       "      <td>Dec 24, 2017</td>\n",
       "      <td>01:22:45</td>\n",
       "      <td>5.03</td>\n",
       "      <td>3.6</td>\n",
       "    </tr>\n",
       "  </tbody>\n",
       "</table>\n",
       "</div>"
      ],
      "text/plain": [
       "           date      time distance avg-speed\n",
       "0  Dec 31, 2017  01:06:31    6.58       5.9 \n",
       "1  Dec 30, 2017  01:01:27    3.87       3.8 \n",
       "2  Dec 27, 2017  00:42:26    3.64       5.1 \n",
       "3  Dec 26, 2017  01:14:09    4.45       3.6 \n",
       "4  Dec 24, 2017  01:22:45    5.03       3.6 "
      ]
     },
     "execution_count": 4,
     "metadata": {},
     "output_type": "execute_result"
    }
   ],
   "source": [
    "sport_dict =list()\n",
    "\n",
    "for st in sports:\n",
    "    single_sport = list()\n",
    "    for s in st.find_all('span'):\n",
    "        if s.get('class')[0] == 'date':\n",
    "            single_sport.append(s.contents[0])\n",
    "        if s.get('class')[0] == 'distance':\n",
    "            single_sport.append(s.contents[0].replace('km',''))\n",
    "        if s.get('class')[0] == 'duration':\n",
    "            single_sport.append(s.contents[0])\n",
    "        if s.get('class')[0] == 'avg-speed':\n",
    "            single_sport.append(s.contents[0].replace('km/h',''))\n",
    "    \n",
    "    sport_dict.append(single_sport)\n",
    "\n",
    "import pandas as pd\n",
    "df = pd.DataFrame(sport_dict)\n",
    "df.columns = ['date', 'time', 'distance', 'avg-speed']\n",
    "df.head()\n"
   ]
  },
  {
   "cell_type": "code",
   "execution_count": 5,
   "metadata": {},
   "outputs": [
    {
     "data": {
      "text/plain": [
       "date         object\n",
       "time         object\n",
       "distance     object\n",
       "avg-speed    object\n",
       "dtype: object"
      ]
     },
     "execution_count": 5,
     "metadata": {},
     "output_type": "execute_result"
    }
   ],
   "source": [
    "df.dtypes"
   ]
  },
  {
   "cell_type": "code",
   "execution_count": 6,
   "metadata": {},
   "outputs": [
    {
     "data": {
      "text/plain": [
       "date          object\n",
       "time          object\n",
       "distance     float32\n",
       "avg-speed    float32\n",
       "dtype: object"
      ]
     },
     "execution_count": 6,
     "metadata": {},
     "output_type": "execute_result"
    }
   ],
   "source": [
    "df['distance']=df['distance'].astype('float32')\n",
    "df['avg-speed']=df['avg-speed'].astype('float32')\n",
    "df.dtypes"
   ]
  },
  {
   "cell_type": "code",
   "execution_count": 7,
   "metadata": {},
   "outputs": [
    {
     "data": {
      "text/plain": [
       "date         datetime64[ns]\n",
       "time                 object\n",
       "distance            float32\n",
       "avg-speed           float32\n",
       "dtype: object"
      ]
     },
     "execution_count": 7,
     "metadata": {},
     "output_type": "execute_result"
    }
   ],
   "source": [
    "df['date'] = pd.to_datetime(df['date'])\n",
    "#pd.to_datetime(df['date'])\n",
    "df.dtypes"
   ]
  },
  {
   "cell_type": "markdown",
   "metadata": {},
   "source": [
    "## Write walks to csv, for future development"
   ]
  },
  {
   "cell_type": "code",
   "execution_count": 8,
   "metadata": {
    "collapsed": true
   },
   "outputs": [],
   "source": [
    "w = df.to_csv('walks.csv', index=False)"
   ]
  },
  {
   "cell_type": "markdown",
   "metadata": {},
   "source": [
    "## Load csv and plot polynomial fits by dates"
   ]
  },
  {
   "cell_type": "code",
   "execution_count": 9,
   "metadata": {},
   "outputs": [
    {
     "data": {
      "text/plain": [
       "date         datetime64[ns]\n",
       "time                 object\n",
       "distance            float64\n",
       "avg-speed           float64\n",
       "dtype: object"
      ]
     },
     "execution_count": 9,
     "metadata": {},
     "output_type": "execute_result"
    }
   ],
   "source": [
    "import pandas as pd\n",
    "try:\n",
    "    df = pd.read_csv('walks.csv')\n",
    "except FileNotFoundError:\n",
    "    print('Using old df')\n",
    "\n",
    "# convert date to datetime64[ns]\n",
    "df['date'] = pd.to_datetime(df['date'])\n",
    "#pd.to_datetime(df['date'])\n",
    "df.dtypes"
   ]
  },
  {
   "cell_type": "code",
   "execution_count": 10,
   "metadata": {},
   "outputs": [
    {
     "name": "stdout",
     "output_type": "stream",
     "text": [
      "mean 4.792\n",
      "std 1.201\n"
     ]
    }
   ],
   "source": [
    "import matplotlib.pyplot as plt\n",
    "import numpy as np\n",
    "print(\"mean %.3f\" % np.mean(df['avg-speed']))\n",
    "print(\"std %.3f\" % np.std(df['avg-speed']))\n",
    "s = np.mean(df['avg-speed']) - 2*np.std(df['avg-speed'])\n",
    "e = np.mean(df['avg-speed']) + 2*np.std(df['avg-speed'])"
   ]
  },
  {
   "cell_type": "code",
   "execution_count": 11,
   "metadata": {},
   "outputs": [
    {
     "name": "stdout",
     "output_type": "stream",
     "text": [
      "214\n"
     ]
    },
    {
     "data": {
      "text/html": [
       "<div>\n",
       "<style>\n",
       "    .dataframe thead tr:only-child th {\n",
       "        text-align: right;\n",
       "    }\n",
       "\n",
       "    .dataframe thead th {\n",
       "        text-align: left;\n",
       "    }\n",
       "\n",
       "    .dataframe tbody tr th {\n",
       "        vertical-align: top;\n",
       "    }\n",
       "</style>\n",
       "<table border=\"1\" class=\"dataframe\">\n",
       "  <thead>\n",
       "    <tr style=\"text-align: right;\">\n",
       "      <th></th>\n",
       "      <th>date</th>\n",
       "      <th>time</th>\n",
       "      <th>distance</th>\n",
       "      <th>avg-speed</th>\n",
       "    </tr>\n",
       "  </thead>\n",
       "  <tbody>\n",
       "    <tr>\n",
       "      <th>0</th>\n",
       "      <td>2017-12-31</td>\n",
       "      <td>01:06:31</td>\n",
       "      <td>6.58</td>\n",
       "      <td>5.9</td>\n",
       "    </tr>\n",
       "    <tr>\n",
       "      <th>1</th>\n",
       "      <td>2017-12-30</td>\n",
       "      <td>01:01:27</td>\n",
       "      <td>3.87</td>\n",
       "      <td>3.8</td>\n",
       "    </tr>\n",
       "    <tr>\n",
       "      <th>2</th>\n",
       "      <td>2017-12-27</td>\n",
       "      <td>00:42:26</td>\n",
       "      <td>3.64</td>\n",
       "      <td>5.1</td>\n",
       "    </tr>\n",
       "    <tr>\n",
       "      <th>3</th>\n",
       "      <td>2017-12-26</td>\n",
       "      <td>01:14:09</td>\n",
       "      <td>4.45</td>\n",
       "      <td>3.6</td>\n",
       "    </tr>\n",
       "    <tr>\n",
       "      <th>4</th>\n",
       "      <td>2017-12-24</td>\n",
       "      <td>01:22:45</td>\n",
       "      <td>5.03</td>\n",
       "      <td>3.6</td>\n",
       "    </tr>\n",
       "  </tbody>\n",
       "</table>\n",
       "</div>"
      ],
      "text/plain": [
       "        date      time  distance  avg-speed\n",
       "0 2017-12-31  01:06:31      6.58        5.9\n",
       "1 2017-12-30  01:01:27      3.87        3.8\n",
       "2 2017-12-27  00:42:26      3.64        5.1\n",
       "3 2017-12-26  01:14:09      4.45        3.6\n",
       "4 2017-12-24  01:22:45      5.03        3.6"
      ]
     },
     "execution_count": 11,
     "metadata": {},
     "output_type": "execute_result"
    }
   ],
   "source": [
    "# Remove outliers\n",
    "dfs = df.loc[ (df['avg-speed'] < e)  &  (df['avg-speed'] > s)]\n",
    "print(len(dfs))\n",
    "dfs.head()"
   ]
  },
  {
   "cell_type": "code",
   "execution_count": 12,
   "metadata": {},
   "outputs": [
    {
     "data": {
      "image/png": "[encoded data removed]",
      "text/plain": [
       "<matplotlib.figure.Figure at 0x7f9295d6e0b8>"
      ]
     },
     "metadata": {},
     "output_type": "display_data"
    }
   ],
   "source": [
    "x = list(range(len(dfs['avg-speed'])))\n",
    "date = list(dfs['date'])\n",
    "\n",
    "import matplotlib.dates as mdates\n",
    "\n",
    "months = mdates.MonthLocator()\n",
    "monthsFmt = mdates.DateFormatter('%m')\n",
    "\n",
    "fig, ax = plt.subplots()\n",
    "for i in range(2,5):\n",
    "    fit = np.polyfit(x, dfs['avg-speed'], deg=i)\n",
    "    p = np.poly1d(fit)\n",
    "    ax.plot(date, p(x), label=('degree %d' % i))\n",
    "\n",
    "#plt.plot(date, dfs['avg-speed'], 'o')\n",
    "\n",
    "ax.xaxis.set_major_locator(months)\n",
    "ax.xaxis.set_major_formatter(monthsFmt)\n",
    "\n",
    "plt.ylabel('av-speed')\n",
    "plt.xlabel('months')\n",
    "plt.legend(loc='best')\n",
    "plt.tight_layout()\n",
    "plt.show()\n",
    "\n"
   ]
  },
  {
   "cell_type": "markdown",
   "metadata": {},
   "source": [
    "## Load snowdepth from fmi"
   ]
  },
  {
   "cell_type": "code",
   "execution_count": 8,
   "metadata": {
    "collapsed": true
   },
   "outputs": [],
   "source": [
    "def get_fmi_url_1day(key, place, parameters, date='2017-01-01'):\n",
    "    url = ('http://data.fmi.fi/fmi-apikey/{0}'\n",
    "    +'/wfs?request=getFeature&storedquery_id=fmi::observations::weather::multipointcoverage&'\n",
    "    +'place={1}&'\n",
    "    +'parameters={2}&'\n",
    "    +'starttime={3}T00:00:01Z&endtime={3}T23:59:59Z&'\n",
    "    +'timestep=1440&').format(key, place, parameters, date)\n",
    "    \n",
    "    return url"
   ]
  },
  {
   "cell_type": "code",
   "execution_count": 9,
   "metadata": {
    "collapsed": true
   },
   "outputs": [],
   "source": [
    "#Lumensyvyys\n",
    "#fmi-avain\n",
    "\n",
    "\n",
    "key = '************************'\n",
    "#avain = key\n",
    "place = 'joensuu'\n",
    "parameters = 'snowdepth'\n",
    "\n",
    "url = get_fmi_url_1day(key, place, parameters)\n",
    "#\n",
    "\n",
    "# print(url)\n"
   ]
  },
  {
   "cell_type": "code",
   "execution_count": 10,
   "metadata": {
    "collapsed": true
   },
   "outputs": [],
   "source": [
    "import urllib3\n",
    "manager = urllib3.PoolManager()\n",
    "r = manager.request('GET', url)\n"
   ]
  },
  {
   "cell_type": "code",
   "execution_count": 11,
   "metadata": {
    "collapsed": true
   },
   "outputs": [],
   "source": [
    "data =r.data"
   ]
  },
  {
   "cell_type": "code",
   "execution_count": null,
   "metadata": {
    "collapsed": true
   },
   "outputs": [],
   "source": [
    "from bs4 import BeautifulSoup\n",
    "soup = BeautifulSoup(data, 'xml')\n",
    "#print(soup.prettify())"
   ]
  },
  {
   "cell_type": "code",
   "execution_count": null,
   "metadata": {
    "collapsed": true
   },
   "outputs": [],
   "source": [
    "s = soup.find('gml:doubleOrNilReasonTupleList')\n",
    "sdepth = float(s.contents[0].replace('\\n', ''))\n",
    "sdepth"
   ]
  },
  {
   "cell_type": "code",
   "execution_count": null,
   "metadata": {
    "collapsed": true
   },
   "outputs": [],
   "source": [
    "dfs['date'][0].strftime(format='%Y-%m-%d')"
   ]
  },
  {
   "cell_type": "code",
   "execution_count": null,
   "metadata": {
    "collapsed": true
   },
   "outputs": [],
   "source": [
    "#len(dfs['date'])\n",
    "import urllib3\n",
    "from bs4 import BeautifulSoup\n",
    "\n",
    "def parse_snow_depth(url):\n",
    "    manager = urllib3.PoolManager()\n",
    "    r = manager.request('GET', url)\n",
    "    \n",
    "    data =r.data\n",
    "    \n",
    "    soup = BeautifulSoup(data, 'xml')\n",
    "    s = soup.find('gml:doubleOrNilReasonTupleList')\n",
    "    try:\n",
    "        return float(s.contents[0].replace('\\n', ''))\n",
    "    except AttributeError:\n",
    "        return 0.0\n",
    "        \n",
    "    \n",
    "def get_snow_depth(date):\n",
    "    #print(date)\n",
    "    date = date.strftime(format='%Y-%m-%d')\n",
    "    key = '*****************'\n",
    "    #avain = key\n",
    "    place = 'joensuu'\n",
    "    parameters = 'snowdepth'\n",
    "\n",
    "    url = get_fmi_url_1day(key, place, parameters, date)\n",
    "    return parse_snow_depth(url)\n",
    "\n",
    "    \n",
    "def get_snow_depths(dates):\n",
    "    dd = list()\n",
    "    for d in dates:\n",
    "        dd.append(get_snow_depth(d))\n",
    "    return dd\n",
    "    "
   ]
  },
  {
   "cell_type": "code",
   "execution_count": null,
   "metadata": {
    "collapsed": true
   },
   "outputs": [],
   "source": [
    "df2 = dfs.copy()"
   ]
  },
  {
   "cell_type": "code",
   "execution_count": null,
   "metadata": {
    "collapsed": true
   },
   "outputs": [],
   "source": [
    "snowdepths = get_snow_depths(df2['date'])\n",
    "df2 = df2.assign(snow= snowdepths)"
   ]
  },
  {
   "cell_type": "code",
   "execution_count": null,
   "metadata": {
    "collapsed": true
   },
   "outputs": [],
   "source": [
    "df2.head()"
   ]
  },
  {
   "cell_type": "code",
   "execution_count": null,
   "metadata": {
    "collapsed": true
   },
   "outputs": [],
   "source": [
    "ws = df2.to_csv('walks_snow.csv', index=False)"
   ]
  },
  {
   "cell_type": "markdown",
   "metadata": {},
   "source": [
    "## Load walks with snow depth (walks_snow.csv)"
   ]
  },
  {
   "cell_type": "code",
   "execution_count": 1,
   "metadata": {
    "collapsed": true
   },
   "outputs": [],
   "source": [
    "import pandas as pd\n",
    "\n",
    "try:\n",
    "    df2 = pd.read_csv('walks_snow.csv')\n",
    "except FileNotFoundError:\n",
    "    print('No walks_snow file be here.\\n'\n",
    "        +'You should probably start from earlier blocks')\n",
    "    "
   ]
  },
  {
   "cell_type": "code",
   "execution_count": 13,
   "metadata": {},
   "outputs": [
    {
     "data": {
      "text/plain": [
       "date          datetime64[ns]\n",
       "time         timedelta64[ns]\n",
       "distance             float64\n",
       "avg-speed            float64\n",
       "snow                 float64\n",
       "dtype: object"
      ]
     },
     "execution_count": 13,
     "metadata": {},
     "output_type": "execute_result"
    }
   ],
   "source": [
    "df2['date'] = pd.to_datetime(df2['date'])\n",
    "df2['time'] = pd.to_timedelta(df2['time'])\n",
    "df2.dtypes\n"
   ]
  },
  {
   "cell_type": "code",
   "execution_count": 14,
   "metadata": {},
   "outputs": [
    {
     "data": {
      "image/png": "[encoded data removed]",
      "text/plain": [
       "<matplotlib.figure.Figure at 0x287f793c240>"
      ]
     },
     "metadata": {},
     "output_type": "display_data"
    }
   ],
   "source": [
    "import matplotlib.pyplot as plt\n",
    "import seaborn as sns\n",
    "sns.set(style='whitegrid', context='notebook')\n",
    "cols = ['date', 'distance', 'time', 'avg-speed', 'snow']\n",
    "sns.pairplot(df2[cols], size=2.5)\n",
    "plt.show()"
   ]
  },
  {
   "cell_type": "code",
   "execution_count": 15,
   "metadata": {
    "collapsed": true
   },
   "outputs": [],
   "source": [
    "#sns.reset_orig()\n",
    "#%matplotlib inline"
   ]
  },
  {
   "cell_type": "code",
   "execution_count": 16,
   "metadata": {
    "scrolled": true
   },
   "outputs": [
    {
     "data": {
      "image/png": "[encoded data removed]",
      "text/plain": [
       "<matplotlib.figure.Figure at 0x287f7bfaef0>"
      ]
     },
     "metadata": {},
     "output_type": "display_data"
    }
   ],
   "source": [
    "import numpy as np\n",
    "import matplotlib.pyplot as plt\n",
    "\n",
    "plt.scatter(x = df2['avg-speed'], y = df2['snow'], marker='o')\n",
    "plt.show()"
   ]
  },
  {
   "cell_type": "code",
   "execution_count": 17,
   "metadata": {},
   "outputs": [
    {
     "name": "stdout",
     "output_type": "stream",
     "text": [
      "5.086440698575165\n",
      "4.752083318928878\n"
     ]
    }
   ],
   "source": [
    "print(np.mean((df2.loc[df2['snow'] < 1])['avg-speed']))\n",
    "print(np.mean((df2.loc[df2['snow'] >= 1])['avg-speed']))"
   ]
  },
  {
   "cell_type": "code",
   "execution_count": 18,
   "metadata": {},
   "outputs": [
    {
     "data": {
      "image/png": "[encoded data removed]",
      "text/plain": [
       "<matplotlib.figure.Figure at 0x287f71c5f60>"
      ]
     },
     "metadata": {},
     "output_type": "display_data"
    }
   ],
   "source": [
    "x = list(range(len(df2['snow'])))\n",
    "date = list(df2['date'])\n",
    "\n",
    "import matplotlib.dates as mdates\n",
    "\n",
    "months = mdates.MonthLocator()\n",
    "monthsFmt = mdates.DateFormatter('%m')\n",
    "\n",
    "fig, ax = plt.subplots()\n",
    "for i in range(2,5):\n",
    "    fit = np.polyfit(x, df2['snow'], deg=i)\n",
    "    p = np.poly1d(fit)\n",
    "    ax.plot(date, p(x), label=('degree %d' % i))\n",
    "    \n",
    "\n",
    "#plt.plot(date, dfs['avg-speed'], 'o')\n",
    "\n",
    "ax.xaxis.set_major_locator(months)\n",
    "ax.xaxis.set_major_formatter(monthsFmt)\n",
    "\n",
    "plt.ylabel('snow depth')\n",
    "plt.xlabel('months')\n",
    "plt.legend(loc='best')\n",
    "plt.tight_layout()\n",
    "plt.show()"
   ]
  },
  {
   "cell_type": "code",
   "execution_count": 19,
   "metadata": {},
   "outputs": [
    {
     "data": {
      "text/html": [
       "<div>\n",
       "<style>\n",
       "    .dataframe thead tr:only-child th {\n",
       "        text-align: right;\n",
       "    }\n",
       "\n",
       "    .dataframe thead th {\n",
       "        text-align: left;\n",
       "    }\n",
       "\n",
       "    .dataframe tbody tr th {\n",
       "        vertical-align: top;\n",
       "    }\n",
       "</style>\n",
       "<table border=\"1\" class=\"dataframe\">\n",
       "  <thead>\n",
       "    <tr style=\"text-align: right;\">\n",
       "      <th></th>\n",
       "      <th>date</th>\n",
       "      <th>time</th>\n",
       "      <th>distance</th>\n",
       "      <th>avg-speed</th>\n",
       "      <th>snow</th>\n",
       "    </tr>\n",
       "  </thead>\n",
       "  <tbody>\n",
       "    <tr>\n",
       "      <th>164</th>\n",
       "      <td>2017-04-03</td>\n",
       "      <td>01:31:56</td>\n",
       "      <td>5.38</td>\n",
       "      <td>3.5</td>\n",
       "      <td>52.0</td>\n",
       "    </tr>\n",
       "    <tr>\n",
       "      <th>3</th>\n",
       "      <td>2017-12-26</td>\n",
       "      <td>01:14:09</td>\n",
       "      <td>4.45</td>\n",
       "      <td>3.6</td>\n",
       "      <td>36.0</td>\n",
       "    </tr>\n",
       "    <tr>\n",
       "      <th>4</th>\n",
       "      <td>2017-12-24</td>\n",
       "      <td>01:22:45</td>\n",
       "      <td>5.03</td>\n",
       "      <td>3.6</td>\n",
       "      <td>38.0</td>\n",
       "    </tr>\n",
       "    <tr>\n",
       "      <th>69</th>\n",
       "      <td>2017-09-09</td>\n",
       "      <td>00:31:02</td>\n",
       "      <td>1.94</td>\n",
       "      <td>3.7</td>\n",
       "      <td>-1.0</td>\n",
       "    </tr>\n",
       "    <tr>\n",
       "      <th>116</th>\n",
       "      <td>2017-06-18</td>\n",
       "      <td>00:10:05</td>\n",
       "      <td>0.62</td>\n",
       "      <td>3.7</td>\n",
       "      <td>-1.0</td>\n",
       "    </tr>\n",
       "    <tr>\n",
       "      <th>132</th>\n",
       "      <td>2017-05-23</td>\n",
       "      <td>00:15:49</td>\n",
       "      <td>0.97</td>\n",
       "      <td>3.7</td>\n",
       "      <td>0.0</td>\n",
       "    </tr>\n",
       "    <tr>\n",
       "      <th>1</th>\n",
       "      <td>2017-12-30</td>\n",
       "      <td>01:01:27</td>\n",
       "      <td>3.87</td>\n",
       "      <td>3.8</td>\n",
       "      <td>34.0</td>\n",
       "    </tr>\n",
       "    <tr>\n",
       "      <th>188</th>\n",
       "      <td>2017-02-11</td>\n",
       "      <td>01:04:21</td>\n",
       "      <td>4.15</td>\n",
       "      <td>3.9</td>\n",
       "      <td>37.0</td>\n",
       "    </tr>\n",
       "    <tr>\n",
       "      <th>17</th>\n",
       "      <td>2017-12-02</td>\n",
       "      <td>01:10:35</td>\n",
       "      <td>4.58</td>\n",
       "      <td>3.9</td>\n",
       "      <td>17.0</td>\n",
       "    </tr>\n",
       "    <tr>\n",
       "      <th>202</th>\n",
       "      <td>2017-01-23</td>\n",
       "      <td>01:20:39</td>\n",
       "      <td>5.26</td>\n",
       "      <td>3.9</td>\n",
       "      <td>31.0</td>\n",
       "    </tr>\n",
       "  </tbody>\n",
       "</table>\n",
       "</div>"
      ],
      "text/plain": [
       "          date     time  distance  avg-speed  snow\n",
       "164 2017-04-03 01:31:56      5.38        3.5  52.0\n",
       "3   2017-12-26 01:14:09      4.45        3.6  36.0\n",
       "4   2017-12-24 01:22:45      5.03        3.6  38.0\n",
       "69  2017-09-09 00:31:02      1.94        3.7  -1.0\n",
       "116 2017-06-18 00:10:05      0.62        3.7  -1.0\n",
       "132 2017-05-23 00:15:49      0.97        3.7   0.0\n",
       "1   2017-12-30 01:01:27      3.87        3.8  34.0\n",
       "188 2017-02-11 01:04:21      4.15        3.9  37.0\n",
       "17  2017-12-02 01:10:35      4.58        3.9  17.0\n",
       "202 2017-01-23 01:20:39      5.26        3.9  31.0"
      ]
     },
     "execution_count": 19,
     "metadata": {},
     "output_type": "execute_result"
    }
   ],
   "source": [
    "df2.sort_values(by=['avg-speed'])[:10]"
   ]
  },
  {
   "cell_type": "code",
   "execution_count": 20,
   "metadata": {},
   "outputs": [
    {
     "data": {
      "image/png": "[encoded data removed]",
      "text/plain": [
       "<matplotlib.figure.Figure at 0x287f79b3a90>"
      ]
     },
     "metadata": {},
     "output_type": "display_data"
    }
   ],
   "source": [
    "corr = df2.corr()\n",
    "sns.heatmap(corr, xticklabels=corr.columns.values, yticklabels=corr.columns.values)\n",
    "plt.title('Correlation matrix')\n",
    "plt.show()"
   ]
  },
  {
   "cell_type": "code",
   "execution_count": 26,
   "metadata": {},
   "outputs": [],
   "source": [
    "tds = df2['time'][0]"
   ]
  },
  {
   "cell_type": "code",
   "execution_count": 47,
   "metadata": {},
   "outputs": [],
   "source": [
    "def timedelta_to_hours(timedelta):\n",
    "    return timedelta.seconds/(60*60)\n",
    "\n",
    "#Todo, change all from columns and type to float"
   ]
  },
  {
   "cell_type": "code",
   "execution_count": 49,
   "metadata": {},
   "outputs": [
    {
     "data": {
      "text/plain": [
       "1.1086111111111112"
      ]
     },
     "execution_count": 49,
     "metadata": {},
     "output_type": "execute_result"
    }
   ],
   "source": [
    "timedelta_to_hours(df2['time'][0])"
   ]
  },
  {
   "cell_type": "code",
   "execution_count": null,
   "metadata": {
    "collapsed": true
   },
   "outputs": [],
   "source": []
  }
 ],
 "metadata": {
  "kernelspec": {
   "display_name": "Python 3",
   "language": "python",
   "name": "python3"
  },
  "language_info": {
   "codemirror_mode": {
    "name": "ipython",
    "version": 3
   },
   "file_extension": ".py",
   "mimetype": "text/x-python",
   "name": "python",
   "nbconvert_exporter": "python",
   "pygments_lexer": "ipython3",
   "version": "3.6.3"
  }
 },
 "nbformat": 4,
 "nbformat_minor": 2
}
